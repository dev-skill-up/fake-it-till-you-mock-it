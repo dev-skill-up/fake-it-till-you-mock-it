{
 "cells": [
  {
   "cell_type": "markdown",
   "metadata": {},
   "source": [
    "# Fake It 'Till You Mock It -- Preparation\n",
    "\n",
    "Welcome to the Mock Tutorial preparation notebook.\n",
    "We will use Jupyter notebooks as our teaching environments.\n",
    "This notebook will help you prepare for the tutorial.\n",
    "\n",
    "In a new virtual environment, do\n",
    "\n",
    "```\n",
    "$ pip install pytest ipytest jupyterlab\n",
    "```\n",
    "\n",
    "(If you were in the previous tutorial, we are using a different pytest/Jupyter integration,\n",
    "after some issues with the previous one.)\n",
    "\n",
    "When this is done, launch Jupyter\n",
    "\n",
    "```\n",
    "$ jupyter lab\n",
    "```\n",
    "\n",
    "Click on the upload icon, and [upload](https://jupyterlab.readthedocs.io/en/stable/user/files.html#uploading-and-downloading) this notebook.\n",
    "(If you are looking at this notebook on GitHub, you will need to click on \"Raw\",\n",
    "and then use the \"Save Page\" functionality in your browser to save it locally first.)\n",
    "\n",
    "The next step will be to load the `ipytest` Jupyter extension:"
   ]
  },
  {
   "cell_type": "code",
   "execution_count": null,
   "metadata": {},
   "outputs": [],
   "source": [
    "import ipytest\n",
    "ipytest.autoconfig()"
   ]
  },
  {
   "cell_type": "markdown",
   "metadata": {},
   "source": [
    "There should not be any output from this step. If an error occured saying \"module not found\", make sure the virtual environment has `ipytest` installed."
   ]
  },
  {
   "cell_type": "markdown",
   "metadata": {},
   "source": [
    "Now run simple test, that will check that your environment is properly configured."
   ]
  },
  {
   "cell_type": "code",
   "execution_count": null,
   "metadata": {},
   "outputs": [],
   "source": [
    "%%run_pytest[clean]\n",
    "\n",
    "import pytest\n",
    "\n",
    "@pytest.mark.parametrize('value', [1, 2])\n",
    "def test_something(value):\n",
    "    assert value != value"
   ]
  },
  {
   "cell_type": "markdown",
   "metadata": {},
   "source": [
    "The output from the cell should look like:\n",
    "\n",
    "```\n",
    "FF                                                                          [100%]\n",
    "==================================== FAILURES =====================================\n",
    "________________________________ test_something[1] ________________________________\n",
    "\n",
    "value = 1\n",
    "\n",
    "    @pytest.mark.parametrize('value', [1, 2])\n",
    "    def test_something(value):\n",
    ">       assert value != value\n",
    "E       assert 1 != 1\n",
    "\n",
    "<ipython-input-25-36909bbf865f>:6: AssertionError\n",
    "________________________________ test_something[2] ________________________________\n",
    "\n",
    "value = 2\n",
    "\n",
    "    @pytest.mark.parametrize('value', [1, 2])\n",
    "    def test_something(value):\n",
    ">       assert value != value\n",
    "E       assert 2 != 2\n",
    "\n",
    "<ipython-input-25-36909bbf865f>:6: AssertionError\n",
    "============================= short test summary info =============================\n",
    "FAILED tmptxg8rvn8.py::test_something[1] - assert 1 != 1\n",
    "FAILED tmptxg8rvn8.py::test_something[2] - assert 2 != 2\n",
    "2 failed in 0.03s\n",
    "```"
   ]
  },
  {
   "cell_type": "markdown",
   "metadata": {},
   "source": [
    "Typical problems:\n",
    "\n",
    "* `ipytest` is not installed\n",
    "* `pytest` is not installed\n",
    "* You are running your Jupyter lab in the wrong virtual environment.\n",
    "\n",
    "The cell below calculates your virtual environment:"
   ]
  },
  {
   "cell_type": "code",
   "execution_count": null,
   "metadata": {},
   "outputs": [],
   "source": [
    "import pathlib, sys\n",
    "\n",
    "venv = pathlib.Path(sys.executable).parent.parent\n",
    "f\"Your virtual environment is {venv}\""
   ]
  },
  {
   "cell_type": "code",
   "execution_count": null,
   "metadata": {},
   "outputs": [],
   "source": [
    "import sys, subprocess, pprint\n",
    "\n",
    "result = subprocess.run([sys.executable, \"-m\", \"pip\", \"freeze\"], text=True, capture_output=True)\n",
    "result.check_returncode()\n",
    "packages = result.stdout.splitlines()\n",
    "\n",
    "test_related = [package for package in packages if 'pytest' in package]\n",
    "print(\"Test related packages, with versions:\")\n",
    "pprint.pprint(test_related)"
   ]
  },
  {
   "cell_type": "markdown",
   "metadata": {},
   "source": [
    "If the previous command raised an exception, you can see more details if you check `result`:"
   ]
  },
  {
   "cell_type": "code",
   "execution_count": null,
   "metadata": {},
   "outputs": [],
   "source": [
    "result"
   ]
  },
  {
   "cell_type": "code",
   "execution_count": null,
   "metadata": {},
   "outputs": [],
   "source": []
  }
 ],
 "metadata": {
  "kernelspec": {
   "display_name": "mock-tutorial",
   "language": "python",
   "name": "mock-tutorial-env"
  },
  "language_info": {
   "codemirror_mode": {
    "name": "ipython",
    "version": 3
   },
   "file_extension": ".py",
   "mimetype": "text/x-python",
   "name": "python",
   "nbconvert_exporter": "python",
   "pygments_lexer": "ipython3",
   "version": "3.8.3"
  }
 },
 "nbformat": 4,
 "nbformat_minor": 4
}
